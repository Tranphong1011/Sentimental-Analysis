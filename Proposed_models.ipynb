{
 "cells": [
  {
   "cell_type": "code",
   "execution_count": 1,
   "id": "cde1bea0-9c6c-4dca-96a4-0f2a3a993cbd",
   "metadata": {},
   "outputs": [],
   "source": [
    "import pandas as pd\n",
    "import numpy as np\n",
    "from sklearn.feature_extraction.text import TfidfVectorizer"
   ]
  },
  {
   "cell_type": "markdown",
   "id": "2377948b-dcde-4e52-9b8a-811f31040e93",
   "metadata": {},
   "source": [
    "### Import dữ liệu sau processed"
   ]
  },
  {
   "cell_type": "code",
   "execution_count": 2,
   "id": "24e91408-3c60-46d8-b004-b1218f648cd0",
   "metadata": {},
   "outputs": [
    {
     "data": {
      "text/html": [
       "<div>\n",
       "<style scoped>\n",
       "    .dataframe tbody tr th:only-of-type {\n",
       "        vertical-align: middle;\n",
       "    }\n",
       "\n",
       "    .dataframe tbody tr th {\n",
       "        vertical-align: top;\n",
       "    }\n",
       "\n",
       "    .dataframe thead th {\n",
       "        text-align: right;\n",
       "    }\n",
       "</style>\n",
       "<table border=\"1\" class=\"dataframe\">\n",
       "  <thead>\n",
       "    <tr style=\"text-align: right;\">\n",
       "      <th></th>\n",
       "      <th>IDRestaurant</th>\n",
       "      <th>Comment_new</th>\n",
       "      <th>rating_encoded</th>\n",
       "    </tr>\n",
       "  </thead>\n",
       "  <tbody>\n",
       "    <tr>\n",
       "      <th>0</th>\n",
       "      <td>1</td>\n",
       "      <td>chiên sống</td>\n",
       "      <td>1</td>\n",
       "    </tr>\n",
       "    <tr>\n",
       "      <th>1</th>\n",
       "      <td>1</td>\n",
       "      <td>ngon</td>\n",
       "      <td>1</td>\n",
       "    </tr>\n",
       "    <tr>\n",
       "      <th>2</th>\n",
       "      <td>1</td>\n",
       "      <td>thừa</td>\n",
       "      <td>0</td>\n",
       "    </tr>\n",
       "    <tr>\n",
       "      <th>3</th>\n",
       "      <td>1</td>\n",
       "      <td>kêu đói háo_hức thành khóc ròng khóc ròng khóc...</td>\n",
       "      <td>1</td>\n",
       "    </tr>\n",
       "    <tr>\n",
       "      <th>4</th>\n",
       "      <td>1</td>\n",
       "      <td>tặng uống</td>\n",
       "      <td>2</td>\n",
       "    </tr>\n",
       "    <tr>\n",
       "      <th>5</th>\n",
       "      <td>1</td>\n",
       "      <td>thề lắm tức_giận mừng háo_hức khô chú_ý minion...</td>\n",
       "      <td>0</td>\n",
       "    </tr>\n",
       "    <tr>\n",
       "      <th>6</th>\n",
       "      <td>1</td>\n",
       "      <td>thử hơi kén không_ngon_miệng dập tắt nghiện cư...</td>\n",
       "      <td>2</td>\n",
       "    </tr>\n",
       "    <tr>\n",
       "      <th>7</th>\n",
       "      <td>1</td>\n",
       "      <td>kết_hợp không_thấy không_cấp</td>\n",
       "      <td>0</td>\n",
       "    </tr>\n",
       "    <tr>\n",
       "      <th>8</th>\n",
       "      <td>1</td>\n",
       "      <td>dở ăn_tây tây ngon</td>\n",
       "      <td>1</td>\n",
       "    </tr>\n",
       "    <tr>\n",
       "      <th>9</th>\n",
       "      <td>1</td>\n",
       "      <td>cười</td>\n",
       "      <td>0</td>\n",
       "    </tr>\n",
       "  </tbody>\n",
       "</table>\n",
       "</div>"
      ],
      "text/plain": [
       "   IDRestaurant                                        Comment_new  \\\n",
       "0             1                                         chiên sống   \n",
       "1             1                                               ngon   \n",
       "2             1                                               thừa   \n",
       "3             1  kêu đói háo_hức thành khóc ròng khóc ròng khóc...   \n",
       "4             1                                          tặng uống   \n",
       "5             1  thề lắm tức_giận mừng háo_hức khô chú_ý minion...   \n",
       "6             1  thử hơi kén không_ngon_miệng dập tắt nghiện cư...   \n",
       "7             1                       kết_hợp không_thấy không_cấp   \n",
       "8             1                                 dở ăn_tây tây ngon   \n",
       "9             1                                               cười   \n",
       "\n",
       "   rating_encoded  \n",
       "0               1  \n",
       "1               1  \n",
       "2               0  \n",
       "3               1  \n",
       "4               2  \n",
       "5               0  \n",
       "6               2  \n",
       "7               0  \n",
       "8               1  \n",
       "9               0  "
      ]
     },
     "execution_count": 2,
     "metadata": {},
     "output_type": "execute_result"
    }
   ],
   "source": [
    "df = pd.read_csv('Reviews_preprocessed.csv')\n",
    "df.head(10)"
   ]
  },
  {
   "cell_type": "code",
   "execution_count": 3,
   "id": "6dc2c602-b5d1-4e3f-b562-dc76841793cf",
   "metadata": {},
   "outputs": [
    {
     "name": "stdout",
     "output_type": "stream",
     "text": [
      "<class 'pandas.core.frame.DataFrame'>\n",
      "RangeIndex: 29369 entries, 0 to 29368\n",
      "Data columns (total 3 columns):\n",
      " #   Column          Non-Null Count  Dtype \n",
      "---  ------          --------------  ----- \n",
      " 0   IDRestaurant    29369 non-null  int64 \n",
      " 1   Comment_new     29369 non-null  object\n",
      " 2   rating_encoded  29369 non-null  int64 \n",
      "dtypes: int64(2), object(1)\n",
      "memory usage: 688.5+ KB\n"
     ]
    }
   ],
   "source": [
    "df.info()"
   ]
  },
  {
   "cell_type": "markdown",
   "id": "a2917b3e-47a2-468e-90d2-8a045724ec8b",
   "metadata": {},
   "source": [
    "# Lựa chọn model tốt nhất: KNN, Logistic Regression, Decision Tree, Random Forest, SVM, GaussianNB"
   ]
  },
  {
   "cell_type": "code",
   "execution_count": 4,
   "id": "8047e7fa-90e9-420b-921f-267e7d204595",
   "metadata": {},
   "outputs": [],
   "source": [
    "\n",
    "from sklearn.neighbors import KNeighborsClassifier\n",
    "from sklearn.linear_model import LogisticRegression\n",
    "from sklearn.tree import DecisionTreeClassifier\n",
    "from sklearn.ensemble import RandomForestClassifier\n",
    "from sklearn.svm import SVC\n",
    "from sklearn.naive_bayes import GaussianNB\n",
    "\n",
    "from sklearn.model_selection import train_test_split, cross_val_score\n",
    "import time\n",
    "\n",
    "# List of models\n",
    "models = [   \n",
    "    GaussianNB(),\n",
    "    DecisionTreeClassifier(),\n",
    "    RandomForestClassifier(n_estimators=50),\n",
    "    RandomForestClassifier(n_estimators=100),\n",
    "    SVC(kernel='linear'),\n",
    "    SVC(kernel='rbf'),\n",
    "    KNeighborsClassifier(n_neighbors=6),\n",
    "    KNeighborsClassifier(n_neighbors=12)\n",
    "]\n"
   ]
  },
  {
   "cell_type": "code",
   "execution_count": 5,
   "id": "a87244bd-e26a-4f52-8518-24954dfbef59",
   "metadata": {},
   "outputs": [],
   "source": [
    "X = df['Comment_new']\n",
    "y = df['rating_encoded']"
   ]
  },
  {
   "cell_type": "code",
   "execution_count": 6,
   "id": "5403aa5f-46b0-48d4-bf27-ff80cc60c7b7",
   "metadata": {},
   "outputs": [],
   "source": [
    "X_train, X_test,y_train,y_test = train_test_split(X,y,test_size=0.3, random_state=42)"
   ]
  },
  {
   "cell_type": "code",
   "execution_count": 7,
   "id": "ac3d3543-3103-4169-8c63-0ecb16553780",
   "metadata": {},
   "outputs": [],
   "source": [
    "# Initialize TF-IDF Vectorizer\n",
    "tfidf_vectorizer = TfidfVectorizer()\n",
    "\n",
    "# Fit and transform the training data (handling NaN values internally)\n",
    "X_train_tfidf = tfidf_vectorizer.fit_transform(X_train.astype(str)).toarray()\n",
    "\n",
    "# Transform the testing data (handling NaN values internally)\n",
    "X_test_tfidf = tfidf_vectorizer.transform(X_test.astype(str)).toarray()\n"
   ]
  },
  {
   "cell_type": "code",
   "execution_count": 8,
   "id": "8d0f756d-194a-49fc-bd0c-329e4907e30a",
   "metadata": {},
   "outputs": [],
   "source": [
    "def get_model_name(model):\n",
    "    model_name = model.__class__.__name__\n",
    "    if model_name == 'SVC':\n",
    "        model_name = model_name + '_' + model.kernel\n",
    "    elif model_name == 'KNeighborsClassifier':\n",
    "        model_name = model_name + '_' + str(model.n_neighbors)\n",
    "    elif model_name == 'RandomForestClassifier':\n",
    "        model_name = model_name + '_' + str(model.n_estimators)\n",
    "    return model_name\n"
   ]
  },
  {
   "cell_type": "code",
   "execution_count": 9,
   "id": "ff89a78f-0b54-40c4-b295-93d131fe2ed4",
   "metadata": {},
   "outputs": [
    {
     "name": "stderr",
     "output_type": "stream",
     "text": [
      "C:\\Users\\ttpho\\AppData\\Local\\Temp\\ipykernel_13800\\3161512827.py:22: FutureWarning: The behavior of DataFrame concatenation with empty or all-NA entries is deprecated. In a future version, this will no longer exclude empty or all-NA columns when determining the result dtypes. To retain the old behavior, exclude the relevant entries before the concat operation.\n",
      "  model_selection = model_selection._append({\n",
      "\n",
      "KeyboardInterrupt\n",
      "\n"
     ]
    }
   ],
   "source": [
    "from sklearn.metrics import accuracy_score\n",
    "\n",
    "model_selection = pd.DataFrame(columns=['model', 'accuracy', 'time'])\n",
    "\n",
    "# Loop through the models\n",
    "for model in models:\n",
    "    # Get the model name\n",
    "    model_name = get_model_name(model)\n",
    "    # Get the current time\n",
    "    start_time = time.time()\n",
    "    # Train the model\n",
    "    model.fit(X_train_tfidf, y_train)\n",
    "    # Predict the labels for the testing data\n",
    "    y_pred = model.predict(X_test_tfidf)\n",
    "    # Calculate the accuracy score\n",
    "    accuracy = accuracy_score(y_test, y_pred)\n",
    "    # Get the current time\n",
    "    end_time = time.time()\n",
    "    # Calculate the time taken to train the model\n",
    "    time_taken = end_time - start_time\n",
    "    # Store the results in the model_selection DataFrame\n",
    "    model_selection = model_selection._append({\n",
    "        'model': model_name,\n",
    "        'accuracy': accuracy,\n",
    "        'time': time_taken\n",
    "    }, ignore_index=True)\n"
   ]
  },
  {
   "cell_type": "code",
   "execution_count": 1,
   "id": "e5ebb81a-20e1-48f5-ac11-9f21ed708ceb",
   "metadata": {},
   "outputs": [
    {
     "ename": "NameError",
     "evalue": "name 'model_selection' is not defined",
     "output_type": "error",
     "traceback": [
      "\u001b[1;31m---------------------------------------------------------------------------\u001b[0m",
      "\u001b[1;31mNameError\u001b[0m                                 Traceback (most recent call last)",
      "Cell \u001b[1;32mIn[1], line 1\u001b[0m\n\u001b[1;32m----> 1\u001b[0m \u001b[43mmodel_selection\u001b[49m\n",
      "\u001b[1;31mNameError\u001b[0m: name 'model_selection' is not defined"
     ]
    }
   ],
   "source": [
    "model_selection"
   ]
  },
  {
   "cell_type": "code",
   "execution_count": null,
   "id": "6c0ff2e7-3886-42fe-8ae6-5f6505f5f6a2",
   "metadata": {},
   "outputs": [],
   "source": [
    "# Plot the model selection DataFrame\n",
    "import matplotlib.pyplot as plt\n",
    "import seaborn as sns\n",
    "\n",
    "# Plot the mean accuracy\n",
    "plt.figure(figsize=(10, 5))\n",
    "sns.barplot(x='mean_accuracy', y='model', data=model_selection, color='blue')\n",
    "plt.title('Mean Accuracy')\n",
    "plt.xlim(0.8, 1)"
   ]
  },
  {
   "cell_type": "code",
   "execution_count": null,
   "id": "0f24dbd9-5a37-4a3a-837d-fbcada8b8176",
   "metadata": {},
   "outputs": [],
   "source": [
    "1"
   ]
  },
  {
   "cell_type": "code",
   "execution_count": null,
   "id": "8f6df494-8863-4470-ae61-a2b3de2c0994",
   "metadata": {},
   "outputs": [],
   "source": []
  }
 ],
 "metadata": {
  "kernelspec": {
   "display_name": "Python 3 (ipykernel)",
   "language": "python",
   "name": "python3"
  },
  "language_info": {
   "codemirror_mode": {
    "name": "ipython",
    "version": 3
   },
   "file_extension": ".py",
   "mimetype": "text/x-python",
   "name": "python",
   "nbconvert_exporter": "python",
   "pygments_lexer": "ipython3",
   "version": "3.12.2"
  }
 },
 "nbformat": 4,
 "nbformat_minor": 5
}
